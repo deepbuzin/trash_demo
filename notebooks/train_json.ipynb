{
 "cells": [
  {
   "cell_type": "code",
   "execution_count": 1,
   "metadata": {},
   "outputs": [],
   "source": [
    "import dotenv\n",
    "\n",
    "dotenv.load_dotenv(dotenv.find_dotenv())\n",
    "\n",
    "from langchain_core.pydantic_v1 import BaseModel, Field\n",
    "from langchain_openai import AzureChatOpenAI\n",
    "from langchain_core.messages import HumanMessage\n",
    "from langchain_core.prompts import ChatPromptTemplate, MessagesPlaceholder\n",
    "\n",
    "from pathlib import Path\n",
    "from tqdm import tqdm\n",
    "from typing import Dict, Optional, List\n",
    "import random"
   ]
  },
  {
   "cell_type": "code",
   "execution_count": 2,
   "metadata": {},
   "outputs": [],
   "source": [
    "llm = AzureChatOpenAI(\n",
    "    temperature=0.0,\n",
    "    azure_deployment=\"gpt4o\",\n",
    "    openai_api_version=\"2023-07-01-preview\",\n",
    ")"
   ]
  },
  {
   "cell_type": "code",
   "execution_count": 3,
   "metadata": {},
   "outputs": [],
   "source": [
    "class TrashItem(BaseModel):\n",
    "    \"\"\"\n",
    "    A trash item that needs to be sorted into a category.\n",
    "    \"\"\"\n",
    "\n",
    "    item_id: Optional[str] = Field(description=\"The unique identifier of the item.\")\n",
    "    direction: Optional[str] = Field(\n",
    "        description=\"How to dispose of the item according to the rules.\"\n",
    "    )\n",
    "\n",
    "\n",
    "class Quirk(BaseModel):\n",
    "    \"\"\"\n",
    "    A local rule or quirk relevant to the person trying to sort their garbage.\n",
    "    Should include a concrete fine, specific sorting rule, collection day of the week, etc.\n",
    "    Should not include general information like \"fines may apply\" or \"state plans to enforce this law by 2025\".\n",
    "    Should not include rules that apply to facilities or businesses, only to individuals.\n",
    "    \"\"\"\n",
    "\n",
    "    description: Optional[str] = Field(\n",
    "        description=\"A description of the rule or quirk.\"\n",
    "    )\n",
    "\n",
    "\n",
    "class SortingInfo(BaseModel):\n",
    "    \"\"\"\n",
    "    Information about how to sort a list of trash items.\n",
    "    \"\"\"\n",
    "\n",
    "    sorted_items: Optional[List[TrashItem]] = Field(\n",
    "        description=\"A list of trash items and their corresponding categories.\"\n",
    "    )\n",
    "    local_quirks: Optional[List[Quirk]] = Field(\n",
    "        description=\"Local quirks that need to be taken into account when sorting the items.\"\n",
    "    )\n"
   ]
  },
  {
   "cell_type": "code",
   "execution_count": 4,
   "metadata": {},
   "outputs": [
    {
     "data": {
      "text/plain": [
       "ChatPromptValue(messages=[SystemMessage(content=\"You are an expert extraction algorithm designed to help with sorting garbage items based on local waste disposal rules. You will receive a list of garbage item names and need to assign each one to its corresponding category according to the provided disposal rules. Only extract relevant information from the text. If you do not know the value of an attribute asked to extract, return null for the attribute's value.\"), HumanMessage(content='testing 1 2 3'), HumanMessage(content='some rules\\n===\\nthis is items')])"
      ]
     },
     "execution_count": 4,
     "metadata": {},
     "output_type": "execute_result"
    }
   ],
   "source": [
    "prompt = ChatPromptTemplate.from_messages(\n",
    "    [\n",
    "        (\n",
    "            \"system\",\n",
    "            \"You are an expert extraction algorithm designed to help with sorting garbage items based on local waste disposal rules. \"\n",
    "            \"You will receive a list of garbage item names and need to assign each one to its corresponding category according to the provided disposal rules. \"\n",
    "            \"Only extract relevant information from the text. \"\n",
    "            \"If you do not know the value of an attribute asked to extract, return null for the attribute's value.\",\n",
    "        ),\n",
    "        # ↓↓↓↓↓↓↓↓↓↓↓↓↓↓↓↓↓↓↓↓↓↓↓↓↓↓↓↓\n",
    "        MessagesPlaceholder(\"examples\"),  # <-- EXAMPLES!\n",
    "        # ↑↑↑↑↑↑↑↑↑↑↑↑↑↑↑↑↑↑↑↑↑↑↑↑↑↑↑↑↑\n",
    "        (\"human\", \"{rules}\\n===\\n{items}\"),\n",
    "    ]\n",
    ")\n",
    "\n",
    "prompt.invoke(\n",
    "    {\n",
    "        \"rules\": \"some rules\",\n",
    "        \"items\": \"this is items\",\n",
    "        \"examples\": [HumanMessage(content=\"testing 1 2 3\")],\n",
    "    }\n",
    ")"
   ]
  },
  {
   "cell_type": "code",
   "execution_count": 5,
   "metadata": {},
   "outputs": [],
   "source": [
    "import uuid\n",
    "from typing import Dict, List, TypedDict\n",
    "\n",
    "from langchain_core.messages import (\n",
    "    AIMessage,\n",
    "    BaseMessage,\n",
    "    HumanMessage,\n",
    "    SystemMessage,\n",
    "    ToolMessage,\n",
    ")\n",
    "from langchain_core.pydantic_v1 import BaseModel, Field\n",
    "\n",
    "\n",
    "class Example(TypedDict):\n",
    "    \"\"\"A representation of an example consisting of text input and expected tool calls.\n",
    "\n",
    "    For extraction, the tool calls are represented as instances of pydantic model.\n",
    "    \"\"\"\n",
    "\n",
    "    input: str  # This is the example text\n",
    "    tool_calls: List[BaseModel]  # Instances of pydantic model that should be extracted\n",
    "\n",
    "\n",
    "def tool_example_to_messages(example: Example) -> List[BaseMessage]:\n",
    "    \"\"\"Convert an example into a list of messages that can be fed into an LLM.\n",
    "\n",
    "    This code is an adapter that converts our example to a list of messages\n",
    "    that can be fed into a chat model.\n",
    "\n",
    "    The list of messages per example corresponds to:\n",
    "\n",
    "    1) HumanMessage: contains the content from which content should be extracted.\n",
    "    2) AIMessage: contains the extracted information from the model\n",
    "    3) ToolMessage: contains confirmation to the model that the model requested a tool correctly.\n",
    "\n",
    "    The ToolMessage is required because some of the chat models are hyper-optimized for agents\n",
    "    rather than for an extraction use case.\n",
    "    \"\"\"\n",
    "    messages: List[BaseMessage] = [HumanMessage(content=example[\"input\"])]\n",
    "    tool_calls = []\n",
    "    for tool_call in example[\"tool_calls\"]:\n",
    "        tool_calls.append(\n",
    "            {\n",
    "                \"id\": str(uuid.uuid4()),\n",
    "                \"args\": tool_call.dict(),\n",
    "                # The name of the function right now corresponds\n",
    "                # to the name of the pydantic model\n",
    "                # This is implicit in the API right now,\n",
    "                # and will be improved over time.\n",
    "                \"name\": tool_call.__class__.__name__,\n",
    "            },\n",
    "        )\n",
    "    messages.append(AIMessage(content=\"\", tool_calls=tool_calls))\n",
    "    tool_outputs = example.get(\"tool_outputs\") or [\n",
    "        \"You have correctly called this tool.\"\n",
    "    ] * len(tool_calls)\n",
    "    for output, tool_call in zip(tool_outputs, tool_calls):\n",
    "        messages.append(ToolMessage(content=output, tool_call_id=tool_call[\"id\"]))\n",
    "    return messages"
   ]
  },
  {
   "cell_type": "code",
   "execution_count": 6,
   "metadata": {},
   "outputs": [
    {
     "name": "stdout",
     "output_type": "stream",
     "text": [
      "system: content=\"You are an expert extraction algorithm designed to help with sorting garbage items based on local waste disposal rules. You will receive a list of garbage item names and need to assign each one to its corresponding category according to the provided disposal rules. Only extract relevant information from the text. If you do not know the value of an attribute asked to extract, return null for the attribute's value.\"\n",
      "human: content='In this community, garbage sorting rules are as follows:\\n\\n### General Waste Bag (일반 쓰레기 봉투)\\n- **Color:** Typically white or green (varies by district).\\n- **Contents:** Everything not classified as recyclable or food waste. Examples include used tissues, used toilet paper (when not flushed), sanitary pads, old shoes, and clothes.\\n\\n### Food Waste Bag (음식물 쓰레기 봉투)\\n- **Contents:** Edible waste such as fruit peels, vegetable peels, uneaten meat, and raw eggs (without the shell).\\n- **Exceptions:** Egg shells, crustacean shells, clam shells, onion and garlic skin, animal bones, and tea bags/leaves are not considered food waste.\\n\\n### Recyclable Waste (재활용 쓰레기)\\n- **Containers/Bags:** No special bags required; use designated bins or any plastic bag if bins are not provided.\\n- **Types:** \\n  - Paper Pack (juice, milk cartons)\\n  - Glass (beer bottles)\\n  - Cans (aluminum or iron)\\n  - Paper (printing paper, magazines, newspapers, boxes)\\n  - Plastic (excluding toys, pens, small candy wraps)\\n  - PET Bottles\\n  - Vinyl (snack bags, dessert wraps)\\n\\n### Oversized Waste (대형 쓰레기)\\n- **Examples:** Refrigerators, induction cookers, TVs, air conditioners, big furniture (mattresses, sofas, desks).\\n- **Procedure:** Contact the local district office to arrange for disposal. Obtain a disposal sticker after providing details about the item. Place the item in the designated area on the appointed date.\\n\\n### Buying Garbage Bags\\n- Available in bulk at convenience stores, supermarkets, or neighborhood marts.\\n- Phrases for asking: \\n  - \"일반 쓰레기 봉투 있어요?\" (Do you have general waste garbage bags?)\\n  - \"음식물 쓰레기 봉투 있어요?\" (Do you have food waste garbage bags?)\\n\\n### Collection Time & Place\\n- **Collection Times:** Typically after sundown (around 7:00 PM) until early morning (5:00 AM).\\n- **Location:** Varies by district. Check with the landlord, building management, or on the garbage bags for specific details.\\n\\n### Penalties\\n- Non-compliance can result in fines up to ₩300,000 (approximately USD $300).\\n\\nThese rules aim to promote effective waste management and reduce the carbon footprint in the community.\\n===\\n[{\\'item_id\\': 0, \\'name\\': \\'plastic\\'}, {\\'item_id\\': 1, \\'name\\': \\'paper\\'}, {\\'item_id\\': 2, \\'name\\': \\'foam\\'}, {\\'item_id\\': 3, \\'name\\': \\'food\\'}]'\n",
      "ai: content='' tool_calls=[{'name': 'SortingInfo', 'args': {'sorted_items': [{'item_id': '0', 'direction': 'Recyclable Waste (재활용 쓰레기) (No special bags required)'}, {'item_id': '1', 'direction': 'Recyclable Waste (재활용 쓰레기) (No special bags required)'}, {'item_id': '2', 'direction': 'General Waste Bag (일반 쓰레기 봉투)'}, {'item_id': '3', 'direction': 'Food Waste Bag (음식물 쓰레기 봉투)'}], 'local_quirks': [{'description': 'Make sure to put items in appropriate garbage bags. Garbage bags are color-coded and district-specific. You can get them at local convenience stores.'}, {'description': 'Penalty for non-compliance is a fine of up to 300,000 KRW.'}, {'description': 'Do not put egg shells, seafood shells, and animal bones into the Food Waste Bag.'}]}, 'id': 'c028337d-dcee-4bd1-bbc5-fc0ef6c739e1', 'type': 'tool_call'}]\n",
      "tool: content='You have correctly called this tool.' tool_call_id='c028337d-dcee-4bd1-bbc5-fc0ef6c739e1'\n",
      "human: content='some rules\\n===\\nthis is items'\n"
     ]
    }
   ],
   "source": [
    "with open(\"korea_summary.txt\", \"r\") as f:\n",
    "    example_rules = f.read()\n",
    "\n",
    "example_items = [\n",
    "    {\"item_id\": 0, \"name\": \"plastic\"},\n",
    "    {\"item_id\": 1, \"name\": \"paper\"},\n",
    "    {\"item_id\": 2, \"name\": \"foam\"},\n",
    "    {\"item_id\": 3, \"name\": \"food\"},\n",
    "]\n",
    "example_input = f\"{example_rules}\\n===\\n{example_items}\"\n",
    "\n",
    "\n",
    "example_output = SortingInfo(\n",
    "    sorted_items=[\n",
    "        TrashItem(item_id=\"0\", direction=\"Recyclable Waste (재활용 쓰레기) (No special bags required)\"),\n",
    "        TrashItem(item_id=\"1\", direction=\"Recyclable Waste (재활용 쓰레기) (No special bags required)\"),\n",
    "        TrashItem(item_id=\"2\", direction=\"General Waste Bag (일반 쓰레기 봉투)\"),\n",
    "        TrashItem(item_id=\"3\", direction=\"Food Waste Bag (음식물 쓰레기 봉투)\"),\n",
    "    ],\n",
    "    local_quirks=[\n",
    "        Quirk(\n",
    "            description=\"Make sure to put items in appropriate garbage bags. Garbage bags are color-coded and district-specific. You can get them at local convenience stores.\"\n",
    "        ),\n",
    "        Quirk(description=\"Penalty for non-compliance is a fine of up to 300,000 KRW.\"),\n",
    "        Quirk(description=\"Do not put egg shells, seafood shells, and animal bones into the Food Waste Bag.\"),\n",
    "    ],\n",
    ")\n",
    "\n",
    "examples = [\n",
    "    (\n",
    "        example_input,\n",
    "        example_output,\n",
    "    )\n",
    "]\n",
    "\n",
    "messages = []\n",
    "\n",
    "for text, tool_call in examples:\n",
    "    messages.extend(\n",
    "        tool_example_to_messages({\"input\": text, \"tool_calls\": [tool_call]})\n",
    "    )\n",
    "\n",
    "example_prompt = prompt.invoke(\n",
    "    {\"rules\": \"some rules\", \"items\": \"this is items\", \"examples\": messages}\n",
    ")\n",
    "\n",
    "for message in example_prompt.messages:\n",
    "    print(f\"{message.type}: {message}\")"
   ]
  },
  {
   "cell_type": "code",
   "execution_count": 7,
   "metadata": {},
   "outputs": [],
   "source": [
    "runnable = prompt | llm.with_structured_output(schema=SortingInfo)"
   ]
  },
  {
   "cell_type": "code",
   "execution_count": 8,
   "metadata": {},
   "outputs": [],
   "source": [
    "with open(\"california_summary.txt\") as f:\n",
    "    rules = f.read()\n",
    "\n",
    "item_names = [\n",
    "    \"plastic\",\n",
    "    \"glass\",\n",
    "    \"paper\",\n",
    "    \"carton\",\n",
    "    \"metal\",\n",
    "    \"foam\",\n",
    "    \"special\",\n",
    "    \"food\",\n",
    "    \"general\",\n",
    "]\n",
    "\n",
    "\n",
    "def get_random_items():\n",
    "    random_count = random.randint(1, 7)\n",
    "    random_items = [\n",
    "        {\"item_id\": i, \"name\": item_names[random.randint(0, len(item_names) - 1)]}\n",
    "        for i in range(random_count)\n",
    "    ]\n",
    "    return random_items"
   ]
  },
  {
   "cell_type": "code",
   "execution_count": 9,
   "metadata": {},
   "outputs": [],
   "source": [
    "items = get_random_items()\n",
    "output = runnable.invoke({\"rules\": rules, \"items\": items, \"examples\": messages})"
   ]
  },
  {
   "cell_type": "code",
   "execution_count": 10,
   "metadata": {},
   "outputs": [
    {
     "data": {
      "text/plain": [
       "[{'item_id': 0, 'name': 'general'},\n",
       " {'item_id': 1, 'name': 'glass'},\n",
       " {'item_id': 2, 'name': 'food'},\n",
       " {'item_id': 3, 'name': 'metal'},\n",
       " {'item_id': 4, 'name': 'glass'},\n",
       " {'item_id': 5, 'name': 'paper'},\n",
       " {'item_id': 6, 'name': 'paper'}]"
      ]
     },
     "execution_count": 10,
     "metadata": {},
     "output_type": "execute_result"
    }
   ],
   "source": [
    "items"
   ]
  },
  {
   "cell_type": "code",
   "execution_count": 11,
   "metadata": {},
   "outputs": [
    {
     "data": {
      "text/plain": [
       "{'sorted_items': [{'item_id': '0',\n",
       "   'direction': 'Gray Container (Non-organic and non-recyclable waste)'},\n",
       "  {'item_id': '1', 'direction': 'Blue Container (Traditional recyclables)'},\n",
       "  {'item_id': '2', 'direction': 'Green Container (Food waste)'},\n",
       "  {'item_id': '3', 'direction': 'Blue Container (Traditional recyclables)'},\n",
       "  {'item_id': '4', 'direction': 'Blue Container (Traditional recyclables)'},\n",
       "  {'item_id': '5', 'direction': 'Blue Container (Traditional recyclables)'},\n",
       "  {'item_id': '6', 'direction': 'Blue Container (Traditional recyclables)'}],\n",
       " 'local_quirks': [{'description': 'Non-compliance with sorting and disposal regulations may result in fines.'},\n",
       "  {'description': 'Gray container waste must be transported to a high diversion organic waste processing facility.'},\n",
       "  {'description': 'Uncontainerized green waste and yard waste can be collected in the streets if requirements are met.'}]}"
      ]
     },
     "execution_count": 11,
     "metadata": {},
     "output_type": "execute_result"
    }
   ],
   "source": [
    "output.dict()"
   ]
  },
  {
   "cell_type": "code",
   "execution_count": null,
   "metadata": {},
   "outputs": [],
   "source": []
  },
  {
   "cell_type": "code",
   "execution_count": null,
   "metadata": {},
   "outputs": [],
   "source": []
  }
 ],
 "metadata": {
  "kernelspec": {
   "display_name": "trash_demo",
   "language": "python",
   "name": "python3"
  },
  "language_info": {
   "codemirror_mode": {
    "name": "ipython",
    "version": 3
   },
   "file_extension": ".py",
   "mimetype": "text/x-python",
   "name": "python",
   "nbconvert_exporter": "python",
   "pygments_lexer": "ipython3",
   "version": "3.12.0"
  }
 },
 "nbformat": 4,
 "nbformat_minor": 2
}
